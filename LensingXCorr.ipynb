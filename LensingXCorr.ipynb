{
 "metadata": {
  "name": "",
  "signature": "sha256:fa1dbacadbb06775634cd559aafd14c3b39ca699ba35c90fe4d08b663c4e079a"
 },
 "nbformat": 3,
 "nbformat_minor": 0,
 "worksheets": [
  {
   "cells": [
    {
     "cell_type": "markdown",
     "metadata": {},
     "source": [
      "The kappa map is already windowed due to the application of $w_c(\\mathbf{x})$ on the CMB map before reconstruction. Since the reconstruction is effectively a 2-pt function of the maps $\\langle XY \\rangle$ , the kappa map is distributed after dividing by $\\langle w_c^2(\\mathbf{x}) \\rangle$. This means that if you cross-correlate with another field $G$ that does not have any window applied, you should get an unbiased estimate.\n",
      "\n",
      "However, if you apply a window $w_g(\\mathbf{x})$ to the $G$ map , then you have to apply a joint correction for the windowing of the form\n",
      "\n",
      "$$\n",
      "\\frac{\\langle w_c^2(\\mathbf{x}) \\rangle}{\\langle w_c^2(\\mathbf{x}) w_g(\\mathbf{x}) \\rangle}\n",
      "$$\n",
      "\n",
      "which undoes the original window correction and applies the correct joint window correction. For this reason, the CMB window $w_c(\\mathbf{x})$ is also provided, however, do not use it to further mask the kappa map; only use it to calculate the above scaling!\n",
      "\n",
      "Since the covariances are essentially of the form $\\langle XYGXYG \\rangle$ ,theory errors can be calculated as follows\n",
      "$$\n",
      "\\Delta C_{\\ell}^{kg} = \\sqrt{\\frac{\\langle w^4_c(\\mathbf{x}) w^2_g(\\mathbf{x}) \\rangle}{\\langle w^2_c(\\mathbf{x}) w_g(\\mathbf{x}) \\rangle^2}} \\frac{1}{\\sqrt{(2\\ell+1)f_{\\mathrm{sky}}\\Delta L}}\\sqrt{(C_{\\ell}^{kg})^2+(C_{\\ell}^{kk}+N_{\\ell}^{kk})(C_{\\ell}^{gg}+N_{\\ell}^{kk})}\n",
      "$$"
     ]
    },
    {
     "cell_type": "code",
     "collapsed": false,
     "input": [],
     "language": "python",
     "metadata": {},
     "outputs": []
    }
   ],
   "metadata": {}
  }
 ]
}
{
 "metadata": {
  "name": "",
  "signature": "sha256:4b8ee25a78c0fdf30078f60e0fd21f561b36331639de959b184861f48ad6fa6f"
 },
 "nbformat": 3,
 "nbformat_minor": 0,
 "worksheets": [
  {
   "cells": [
    {
     "cell_type": "heading",
     "level": 1,
     "metadata": {},
     "source": [
      "HOWTO: Cross-correlations with ACTPol Lensing Maps"
     ]
    },
    {
     "cell_type": "markdown",
     "metadata": {},
     "source": [
      "Lensing convergence maps in each patch and each polarization combination are provided, as well as a co-add across all polarization combinations for each patch. The patches are numbered '7' for Deep56, '5' for Deep5 and '6' for Deep6. Deep5 and Deep6 are deeper observations of areas within the region covered by Deep56, so these measurements are correlated with Deep56.\n",
      "\n",
      "The file name conventions are `data/realKappaXY_N.fits` where `XY = ['TT','TE','EE','EB']` and `N=[5,6,7]`. Co-adds in each patch are `data/realKappaCoadd_N.fits`.\n",
      "\n",
      "Let's load one of these maps and get some info on it. Flipper is a useful tool for this."
     ]
    },
    {
     "cell_type": "code",
     "collapsed": false,
     "input": [
      "import liteMap as lm\n",
      "lmap7 = lm.liteMapFromFits('data/realKappaCoadd_7.fits')\n",
      "lmap7.info()"
     ],
     "language": "python",
     "metadata": {},
     "outputs": [
      {
       "output_type": "stream",
       "stream": "stdout",
       "text": [
        "Dimensions (Ny,Nx) = (1472,6120)\n",
        "Pixel Scales: (0.500828,0.499710) arcmins. \n",
        "Map Bounds: [(x0,y0), (x1,y1)]: [(42.000000,-7.799062),(351.008333,4.487921)] (degrees)\n",
        "Map Bounds: [(x0,y0), (x1,y1)]: [(02:48:00.001,-07:47:56.62),(23:24:02.000,+04:29:16.51)]\n",
        "Map area = 626.272201 sq. degrees.\n",
        "Map mean = -0.000000\n",
        "Map std = 1.852538"
       ]
      },
      {
       "output_type": "stream",
       "stream": "stdout",
       "text": [
        "\n"
       ]
      }
     ],
     "prompt_number": 9
    },
    {
     "cell_type": "markdown",
     "metadata": {},
     "source": [
      "The kappa map is already windowed due to the application of $w_c(\\mathbf{x})$ on the CMB map before reconstruction. Since the reconstruction is effectively a 2-pt function of the maps $\\langle XY \\rangle$ , the kappa map is distributed after dividing by $\\langle w_c^2(\\mathbf{x}) \\rangle$. This means that if you cross-correlate with another field $G$ that does not have any window applied, you should get an unbiased estimate.\n",
      "\n",
      "However, if you apply a window $w_g(\\mathbf{x})$ to the $G$ map , then you have to apply a joint correction for the windowing of the form\n",
      "\n",
      "$$\n",
      "\\frac{\\langle w_c^2(\\mathbf{x}) \\rangle}{\\langle w_c^2(\\mathbf{x}) w_g(\\mathbf{x}) \\rangle}\n",
      "$$\n",
      "\n",
      "which undoes the original window correction and applies the correct joint window correction. For this reason, the CMB window $w_c(\\mathbf{x})$ is also provided, however, do not use it to further mask the kappa map; only use it to calculate the above scaling!\n",
      "\n",
      "Since the covariances are essentially of the form $\\langle XYGXYG \\rangle$ ,theory errors can be calculated as follows\n",
      "$$\n",
      "\\Delta C_{\\ell}^{kg} = \\sqrt{\\frac{\\langle w^4_c(\\mathbf{x}) w^2_g(\\mathbf{x}) \\rangle}{\\langle w^2_c(\\mathbf{x}) w_g(\\mathbf{x}) \\rangle^2}} \\frac{1}{\\sqrt{(2\\ell+1)f_{\\mathrm{sky}}\\Delta L}}\\sqrt{(C_{\\ell}^{kg})^2+(C_{\\ell}^{kk}+N_{\\ell}^{kk})(C_{\\ell}^{gg}+N_{\\ell}^{kk})}\n",
      "$$"
     ]
    },
    {
     "cell_type": "code",
     "collapsed": false,
     "input": [],
     "language": "python",
     "metadata": {},
     "outputs": []
    }
   ],
   "metadata": {}
  }
 ]
}
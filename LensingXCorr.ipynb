{
 "metadata": {
  "name": "",
  "signature": "sha256:98828572b09b18673ddf877c8a39cbad93cbded666d53b83b7d806a45be811da"
 },
 "nbformat": 3,
 "nbformat_minor": 0,
 "worksheets": [
  {
   "cells": [
    {
     "cell_type": "markdown",
     "metadata": {},
     "source": [
      "$\\newcommand{\\x}{\\mathbf{x}}$\n",
      "The kappa map is already windowed due to the application of $w_c(\\x)$ on the CMB map before reconstruction. Since the reconstruction is effectively a 2-pt function of the maps $\\langle XY \\rangle$ , the kappa map is distributed after dividing by $\\langle w_c^2(\\x) \\rangle$. This means that if you cross-correlate with another field $G$ that does not have any window applied, you should get an unbiased estimate.\n",
      "\n",
      "However, if you apply a window $w_g(\\x)$ to the $G$ map , then you have to apply a joint correction for the windowing of the form\n",
      "\n",
      "$$\n",
      "\\frac{\\langle w_c^2(\\x) \\rangle}{\\langle w_c^2(\\x) w_g(\\x) \\rangle}\n",
      "$$\n",
      "\n",
      "which undoes the original window correction and applies the correct joint window correction. For this reason, the CMB window $w_c(\\x)$ is also provided, however, do not use it to further mask the kappa map; only use it to calculate the above scaling!\n",
      "\n",
      "Since the covariances are essentially of the form $\\langle XYGXYG \\rangle$ ,theory errors can be calculated as follows\n",
      "$$\n",
      "\\Delta C_{\\ell}^{kg} = \\sqrt{\\frac{\\langle w^4_c(\\x) w^2_g(\\x) \\rangle}{\\langle w^2_c(\\x) w_g(\\x) \\rangle^2}} \\frac{1}{\\sqrt{(2\\ell+1)f_{\\mathrm{sky}}\\Delta L}}\\sqrt{(C_{\\ell}^{kg})^2+(C_{\\ell}^{kk}+N_{\\ell}^{kk})(C_{\\ell}^{gg}+N_{\\ell}^{kk})}\n",
      "$$"
     ]
    },
    {
     "cell_type": "code",
     "collapsed": false,
     "input": [],
     "language": "python",
     "metadata": {},
     "outputs": []
    }
   ],
   "metadata": {}
  }
 ]
}